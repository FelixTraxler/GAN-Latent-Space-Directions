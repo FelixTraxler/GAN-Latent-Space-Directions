{
 "cells": [
  {
   "cell_type": "code",
   "execution_count": 1,
   "metadata": {},
   "outputs": [],
   "source": [
    "%load_ext autoreload\n",
    "%autoreload 2"
   ]
  },
  {
   "cell_type": "code",
   "execution_count": 2,
   "metadata": {},
   "outputs": [
    {
     "name": "stderr",
     "output_type": "stream",
     "text": [
      "/Users/felix/.pyenv/versions/3.12.10/lib/python3.12/site-packages/tqdm/auto.py:21: TqdmWarning: IProgress not found. Please update jupyter and ipywidgets. See https://ipywidgets.readthedocs.io/en/stable/user_install.html\n",
      "  from .autonotebook import tqdm as notebook_tqdm\n"
     ]
    }
   ],
   "source": [
    "\n",
    "from tqdm import tqdm\n",
    "from ft_utils.BatchImageGenerator import BatchImageGenerator\n",
    "from ft_utils.BatchImageClassifier import BatchImageClassifier\n",
    "from ft_utils.utils import create_grid_from_batch, BATCH_SIZE, create_image_grid, image_prefix, diff_percentage\n",
    "import numpy as np\n",
    "import torch"
   ]
  },
  {
   "cell_type": "code",
   "execution_count": 3,
   "metadata": {},
   "outputs": [
    {
     "name": "stdout",
     "output_type": "stream",
     "text": [
      "Loading networks from \"https://nvlabs-fi-cdn.nvidia.com/stylegan2-ada-pytorch/pretrained/transfer-learning-source-nets/ffhq-res256-mirror-paper256-noaug.pkl\"...\n",
      "Scoring images\n"
     ]
    },
    {
     "name": "stderr",
     "output_type": "stream",
     "text": [
      "100%|██████████| 3125/3125 [00:04<00:00, 671.11it/s]\n"
     ]
    }
   ],
   "source": [
    "attributes = [\"blonde\", \"brunette\"]\n",
    "\n",
    "batch_classifier = BatchImageClassifier(\"out_batch_transfer\")\n",
    "batch_generator = BatchImageGenerator(\"out_batch_transfer\", True)\n",
    "\n",
    "scores = []\n",
    "latent_vectors_list = []\n",
    "\n",
    "text_features = batch_classifier.tokenize_attributes(attributes)\n",
    "\n",
    "print(\"Scoring images\")\n",
    "for i in tqdm(range(0, round(200_000 / BATCH_SIZE))):\n",
    "    probs = batch_classifier.classify_from_batch(i*BATCH_SIZE, BATCH_SIZE, text_features)\n",
    "    scores.extend([t[0,0].item() for t in probs]) # Use extend for efficiency\n",
    "    latent_vectors_list.append(batch_generator.load_w_batch(i*BATCH_SIZE, BATCH_SIZE))\n",
    "\n",
    "latent_vectors = np.concatenate(latent_vectors_list, axis=0)\n",
    "scores = np.array(scores).reshape(-1, 1)"
   ]
  },
  {
   "cell_type": "code",
   "execution_count": 16,
   "metadata": {},
   "outputs": [
    {
     "name": "stdout",
     "output_type": "stream",
     "text": [
      "Starting training...\n",
      "InterfaceGAN: Training...\n",
      "Finish training.\n",
      "Average: Training...\n",
      "Gaussian: Training...\n",
      "Finished training\n"
     ]
    },
    {
     "name": "stderr",
     "output_type": "stream",
     "text": [
      "/Users/felix/.pyenv/versions/3.12.10/lib/python3.12/site-packages/sklearn/utils/extmath.py:203: RuntimeWarning: divide by zero encountered in matmul\n",
      "  ret = a @ b\n",
      "/Users/felix/.pyenv/versions/3.12.10/lib/python3.12/site-packages/sklearn/utils/extmath.py:203: RuntimeWarning: overflow encountered in matmul\n",
      "  ret = a @ b\n",
      "/Users/felix/.pyenv/versions/3.12.10/lib/python3.12/site-packages/sklearn/utils/extmath.py:203: RuntimeWarning: invalid value encountered in matmul\n",
      "  ret = a @ b\n",
      "/Users/felix/Desktop/Privat/Bakk/gan-tut/stylegan2-ada-pytorch/ft_utils/GaussianMethod.py:27: RuntimeWarning: divide by zero encountered in matmul\n",
      "  self.__cov = (centered.T @ centered) / (latent_vectors_best.shape[0] - 1)\n",
      "/Users/felix/Desktop/Privat/Bakk/gan-tut/stylegan2-ada-pytorch/ft_utils/GaussianMethod.py:27: RuntimeWarning: overflow encountered in matmul\n",
      "  self.__cov = (centered.T @ centered) / (latent_vectors_best.shape[0] - 1)\n",
      "/Users/felix/Desktop/Privat/Bakk/gan-tut/stylegan2-ada-pytorch/ft_utils/GaussianMethod.py:27: RuntimeWarning: invalid value encountered in matmul\n",
      "  self.__cov = (centered.T @ centered) / (latent_vectors_best.shape[0] - 1)\n",
      "/Users/felix/.pyenv/versions/3.12.10/lib/python3.12/site-packages/numpy/linalg/_linalg.py:2325: RuntimeWarning: divide by zero encountered in slogdet\n",
      "  sign, logdet = _umath_linalg.slogdet(a, signature=signature)\n",
      "/Users/felix/.pyenv/versions/3.12.10/lib/python3.12/site-packages/numpy/linalg/_linalg.py:2325: RuntimeWarning: overflow encountered in slogdet\n",
      "  sign, logdet = _umath_linalg.slogdet(a, signature=signature)\n",
      "/Users/felix/.pyenv/versions/3.12.10/lib/python3.12/site-packages/numpy/linalg/_linalg.py:2325: RuntimeWarning: invalid value encountered in slogdet\n",
      "  sign, logdet = _umath_linalg.slogdet(a, signature=signature)\n"
     ]
    }
   ],
   "source": [
    "import ft_utils.InterfaceGANMethod\n",
    "import ft_utils.AverageMethod\n",
    "import ft_utils.GaussianMethod\n",
    "\n",
    "import importlib\n",
    "importlib.reload(ft_utils.InterfaceGANMethod)\n",
    "importlib.reload(ft_utils.AverageMethod)\n",
    "importlib.reload(ft_utils.GaussianMethod)\n",
    "\n",
    "methods = {\n",
    "    \"InterfaceGAN\": ft_utils.InterfaceGANMethod.InterfaceGANMethod(),\n",
    "    \"Average\": ft_utils.AverageMethod.AverageMethod(),\n",
    "    \"Gaussian\": ft_utils.GaussianMethod.GaussianMethod()\n",
    "}\n",
    "\n",
    "print(\"Starting training...\")\n",
    "for method_name, method in methods.items():\n",
    "    print(\"{}: Training...\".format(method_name))\n",
    "    method.train(latent_vectors, scores)\n",
    "\n",
    "print(\"Finished training\")"
   ]
  },
  {
   "cell_type": "code",
   "execution_count": 17,
   "metadata": {},
   "outputs": [
    {
     "name": "stdout",
     "output_type": "stream",
     "text": [
      "Measuring...\n",
      "Original diff: -11.05 %\n",
      "Original score: 0.19\n",
      "InterfaceGAN diff: +11.22 %\n",
      "Original score: 0.23\n",
      "Average diff: +1.44 %\n",
      "Original score: 0.21\n",
      "Gaussian diff: +0.47 %\n",
      "Original score: 0.21\n"
     ]
    },
    {
     "name": "stderr",
     "output_type": "stream",
     "text": [
      "/Users/felix/Desktop/Privat/Bakk/gan-tut/stylegan2-ada-pytorch/ft_utils/GaussianMethod.py:47: RuntimeWarning: divide by zero encountered in matmul\n",
      "  return np.array([self.nearest_ellipsoid_boundary(x)])\n",
      "/Users/felix/Desktop/Privat/Bakk/gan-tut/stylegan2-ada-pytorch/ft_utils/GaussianMethod.py:47: RuntimeWarning: overflow encountered in matmul\n",
      "  return np.array([self.nearest_ellipsoid_boundary(x)])\n",
      "/Users/felix/Desktop/Privat/Bakk/gan-tut/stylegan2-ada-pytorch/ft_utils/GaussianMethod.py:47: RuntimeWarning: invalid value encountered in matmul\n",
      "  return np.array([self.nearest_ellipsoid_boundary(x)])\n"
     ]
    }
   ],
   "source": [
    "print(\"Measuring...\")\n",
    "batch_idx = 20\n",
    "seed_idx = 4\n",
    "first_seed_w_vector = batch_generator.load_w_batch(batch_idx*BATCH_SIZE, BATCH_SIZE)[seed_idx:seed_idx+1]\n",
    "ws_first = torch.from_numpy(first_seed_w_vector.astype(np.float32)[np.newaxis, :].repeat(14, axis=1)).to(\"mps\")\n",
    "original_image = batch_generator.generate_from_w_vec(ws_first[0], filename=\"method_results/comp_original.png\")\n",
    "original_scores = batch_classifier.classify_image_vec(original_image, text_features)\n",
    "\n",
    "print(\"Original diff: {:+.2f} %\"\n",
    "    .format(diff_percentage(original_scores[0][0], original_scores[0][1]))\n",
    ")\n",
    "print(\"Original score: {:.2f}\"\n",
    "    .format(original_scores[0][0])\n",
    ")\n",
    "\n",
    "for method_name, method in methods.items():\n",
    "    resulting_w_vector = method.latent_walk(first_seed_w_vector)\n",
    "    ws = torch.from_numpy(resulting_w_vector.astype(np.float32)[np.newaxis, :].repeat(14, axis=1)).to(\"mps\")\n",
    "    image = batch_generator.generate_from_w_vec(ws[0], filename=f\"method_results/comp_{method_name}.png\")\n",
    "    new_scores = batch_classifier.classify_image_vec(image, text_features)\n",
    "    print(\"{} diff: {:+.2f} %\".format(method_name, diff_percentage(new_scores[0][0], new_scores[0][1])))\n",
    "    print(\"Original score: {:.2f}\"\n",
    "        .format(new_scores[0][0])\n",
    "    )"
   ]
  }
 ],
 "metadata": {
  "kernelspec": {
   "display_name": "Python 3",
   "language": "python",
   "name": "python3"
  },
  "language_info": {
   "codemirror_mode": {
    "name": "ipython",
    "version": 3
   },
   "file_extension": ".py",
   "mimetype": "text/x-python",
   "name": "python",
   "nbconvert_exporter": "python",
   "pygments_lexer": "ipython3",
   "version": "3.12.10"
  }
 },
 "nbformat": 4,
 "nbformat_minor": 2
}
